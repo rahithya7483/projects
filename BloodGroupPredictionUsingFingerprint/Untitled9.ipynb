{
 "cells": [
  {
   "cell_type": "code",
   "execution_count": null,
   "metadata": {},
   "outputs": [],
   "source": [
    "import numpy as np\n",
    "\n",
    "table = []\n",
    "n = int(input(\"Enter number of inputs: \"))\n",
    "\n",
    "# Gather input data\n",
    "for i in range(2**n):\n",
    "    val = input(\"Enter value: \").split()\n",
    "    # Convert each input value to 1 or -1\n",
    "    val = [1 if int(value) == 1 else -1 for value in val]\n",
    "    table.append(val)\n",
    "\n",
    "# Convert the table into a numpy array\n",
    "arr = np.array(table)\n",
    "ins = arr[:, :-1]  # Input data\n",
    "outs = arr[:, -1]  # Target output data\n",
    "\n",
    "# Initialize weights and bias\n",
    "wts = np.zeros(len(ins[0]))  # Weight initialization (zero or small random values)\n",
    "b = 0  # Bias initialization\n",
    "\n",
    "print(\"Initial weights:\", wts)\n",
    "print(\"Initial bias:\", b)\n",
    "\n",
    "# Training phase\n",
    "for x, t in zip(ins, outs):\n",
    "    for i in range(len(wts)):\n",
    "        wts[i] += x[i] * t  # Update weights\n",
    "    b += t  # Update bias\n",
    "    print(\"Updated weights:\", wts, \"Updated bias:\", b)\n",
    "\n",
    "# Testing phase\n",
    "for x, t in zip(ins, outs):\n",
    "    res = np.dot(x, wts) + b\n",
    "    pred = 1 if res > 0 else -1\n",
    "    status = \"Neuron is fired\" if pred == 1 else \"Neuron is not fired\"\n",
    "    print(f\"Input: {x}, Target: {t}, Prediction: {pred}, Status: {status}\")"
   ]
  },
  {
   "cell_type": "code",
   "execution_count": null,
   "metadata": {},
   "outputs": [],
   "source": []
  }
 ],
 "metadata": {
  "kernelspec": {
   "display_name": "Python 3",
   "language": "python",
   "name": "python3"
  },
  "language_info": {
   "codemirror_mode": {
    "name": "ipython",
    "version": 3
   },
   "file_extension": ".py",
   "mimetype": "text/x-python",
   "name": "python",
   "nbconvert_exporter": "python",
   "pygments_lexer": "ipython3",
   "version": "3.7.4"
  }
 },
 "nbformat": 4,
 "nbformat_minor": 2
}
